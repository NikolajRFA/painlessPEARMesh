{
 "cells": [
  {
   "cell_type": "code",
   "id": "initial_id",
   "metadata": {
    "collapsed": true,
    "ExecuteTime": {
     "end_time": "2025-05-29T13:59:33.458785Z",
     "start_time": "2025-05-29T13:59:33.447951Z"
    }
   },
   "source": [
    "import pandas as pd\n",
    "df = pd.DataFrame.from_dict({\"experiment\": [\"20-15\", \"25-20\", \"30-25\"], \"overconsuming_before_PEAR\": [7, 4, 2], \"overconsuming_after_PEAR\": [3, 1, 1], \"max_overconsumption_decrease\": [(100 - (63.2 / 87 * 100)), (100 - (65.2 / 79.4 * 100)), 100 - (62.4 / 73.2 * 100)]})\n",
    "df['success_rate_%'] = (100 - df['overconsuming_after_PEAR'] / 19 * 100).round(2)\n",
    "df"
   ],
   "outputs": [
    {
     "data": {
      "text/plain": [
       "  experiment  overconsuming_before_PEAR  overconsuming_after_PEAR  \\\n",
       "0      20-15                          7                         3   \n",
       "1      25-20                          4                         1   \n",
       "2      30-25                          2                         1   \n",
       "\n",
       "   max_overconsumption_decrease  success_rate_%  \n",
       "0                     27.356322           84.21  \n",
       "1                     17.884131           94.74  \n",
       "2                     14.754098           94.74  "
      ],
      "text/html": [
       "<div>\n",
       "<style scoped>\n",
       "    .dataframe tbody tr th:only-of-type {\n",
       "        vertical-align: middle;\n",
       "    }\n",
       "\n",
       "    .dataframe tbody tr th {\n",
       "        vertical-align: top;\n",
       "    }\n",
       "\n",
       "    .dataframe thead th {\n",
       "        text-align: right;\n",
       "    }\n",
       "</style>\n",
       "<table border=\"1\" class=\"dataframe\">\n",
       "  <thead>\n",
       "    <tr style=\"text-align: right;\">\n",
       "      <th></th>\n",
       "      <th>experiment</th>\n",
       "      <th>overconsuming_before_PEAR</th>\n",
       "      <th>overconsuming_after_PEAR</th>\n",
       "      <th>max_overconsumption_decrease</th>\n",
       "      <th>success_rate_%</th>\n",
       "    </tr>\n",
       "  </thead>\n",
       "  <tbody>\n",
       "    <tr>\n",
       "      <th>0</th>\n",
       "      <td>20-15</td>\n",
       "      <td>7</td>\n",
       "      <td>3</td>\n",
       "      <td>27.356322</td>\n",
       "      <td>84.21</td>\n",
       "    </tr>\n",
       "    <tr>\n",
       "      <th>1</th>\n",
       "      <td>25-20</td>\n",
       "      <td>4</td>\n",
       "      <td>1</td>\n",
       "      <td>17.884131</td>\n",
       "      <td>94.74</td>\n",
       "    </tr>\n",
       "    <tr>\n",
       "      <th>2</th>\n",
       "      <td>30-25</td>\n",
       "      <td>2</td>\n",
       "      <td>1</td>\n",
       "      <td>14.754098</td>\n",
       "      <td>94.74</td>\n",
       "    </tr>\n",
       "  </tbody>\n",
       "</table>\n",
       "</div>"
      ]
     },
     "execution_count": 17,
     "metadata": {},
     "output_type": "execute_result"
    }
   ],
   "execution_count": 17
  },
  {
   "metadata": {
    "ExecuteTime": {
     "end_time": "2025-06-01T10:14:08.355881Z",
     "start_time": "2025-06-01T10:14:08.351143Z"
    }
   },
   "cell_type": "code",
   "source": [
    "max_before_pear = 40\n",
    "max_after_pear = 23.6\n",
    "\n",
    "print((max_after_pear - max_before_pear) / max_before_pear * 100)"
   ],
   "id": "a7c2e3acd72bac44",
   "outputs": [
    {
     "name": "stdout",
     "output_type": "stream",
     "text": [
      "-41.0\n"
     ]
    }
   ],
   "execution_count": 13
  }
 ],
 "metadata": {
  "kernelspec": {
   "display_name": "Python 3",
   "language": "python",
   "name": "python3"
  },
  "language_info": {
   "codemirror_mode": {
    "name": "ipython",
    "version": 2
   },
   "file_extension": ".py",
   "mimetype": "text/x-python",
   "name": "python",
   "nbconvert_exporter": "python",
   "pygments_lexer": "ipython2",
   "version": "2.7.6"
  }
 },
 "nbformat": 4,
 "nbformat_minor": 5
}
